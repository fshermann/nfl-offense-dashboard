{
 "metadata": {
  "language_info": {
   "codemirror_mode": {
    "name": "ipython",
    "version": 3
   },
   "file_extension": ".py",
   "mimetype": "text/x-python",
   "name": "python",
   "nbconvert_exporter": "python",
   "pygments_lexer": "ipython3",
   "version": "3.8.6-final"
  },
  "orig_nbformat": 2,
  "kernelspec": {
   "name": "Python 3.8.6 64-bit ('env': venv)",
   "display_name": "Python 3.8.6 64-bit ('env': venv)",
   "metadata": {
    "interpreter": {
     "hash": "f52926bd0c6e8f48e9274a4394c47755aaa3a4df69f99ef0fbc3596dccc5660c"
    }
   }
  }
 },
 "nbformat": 4,
 "nbformat_minor": 2,
 "cells": [
  {
   "cell_type": "code",
   "execution_count": 79,
   "metadata": {},
   "outputs": [],
   "source": [
    "import pandas as pd\n",
    "import matplotlib.pyplot as plt\n",
    "import numpy as np"
   ]
  },
  {
   "source": [
    "# Import Data"
   ],
   "cell_type": "markdown",
   "metadata": {}
  },
  {
   "cell_type": "code",
   "execution_count": 80,
   "metadata": {},
   "outputs": [],
   "source": [
    "# import data\n",
    "passing = pd.read_csv('../raw_data/Career_Stats_Passing.csv')\n",
    "rushing = pd.read_csv('../raw_data/Career_Stats_Rushing.csv')\n",
    "basic = pd.read_csv('../raw_data/Basic_Stats.csv')"
   ]
  },
  {
   "source": [
    "# Passing"
   ],
   "cell_type": "markdown",
   "metadata": {}
  },
  {
   "cell_type": "code",
   "execution_count": 81,
   "metadata": {},
   "outputs": [
    {
     "output_type": "execute_result",
     "data": {
      "text/plain": [
       "               Player Id           Name  Games Played Passes Attempted  \\\n",
       "1      tomfarris/2513861     Farris Tom             9                2   \n",
       "2      tomfarris/2513861     Farris Tom            11               21   \n",
       "4     billdemory/2512778    Demory Bill             6               39   \n",
       "10    breezyreid/2523928    Reid Breezy            12                1   \n",
       "12  johnnyknolla/2518652  Knolla Johnny             7                1   \n",
       "\n",
       "   Passes Completed Passing Yards TD Passes Ints Passes Longer than 20 Yards  \\\n",
       "1                 0             0         0    0                           0   \n",
       "2                 8           108         1    2                           0   \n",
       "4                12           159         2    8                           0   \n",
       "10                0             0         0    0                           0   \n",
       "12                0             0         0    0                           0   \n",
       "\n",
       "   Passes Longer than 40 Yards Sacks Sacked Yards Lost  \n",
       "1                            0     0                 0  \n",
       "2                            0     0                 0  \n",
       "4                            0     8                73  \n",
       "10                           0     0                 0  \n",
       "12                           0     0                 0  "
      ],
      "text/html": "<div>\n<style scoped>\n    .dataframe tbody tr th:only-of-type {\n        vertical-align: middle;\n    }\n\n    .dataframe tbody tr th {\n        vertical-align: top;\n    }\n\n    .dataframe thead th {\n        text-align: right;\n    }\n</style>\n<table border=\"1\" class=\"dataframe\">\n  <thead>\n    <tr style=\"text-align: right;\">\n      <th></th>\n      <th>Player Id</th>\n      <th>Name</th>\n      <th>Games Played</th>\n      <th>Passes Attempted</th>\n      <th>Passes Completed</th>\n      <th>Passing Yards</th>\n      <th>TD Passes</th>\n      <th>Ints</th>\n      <th>Passes Longer than 20 Yards</th>\n      <th>Passes Longer than 40 Yards</th>\n      <th>Sacks</th>\n      <th>Sacked Yards Lost</th>\n    </tr>\n  </thead>\n  <tbody>\n    <tr>\n      <th>1</th>\n      <td>tomfarris/2513861</td>\n      <td>Farris Tom</td>\n      <td>9</td>\n      <td>2</td>\n      <td>0</td>\n      <td>0</td>\n      <td>0</td>\n      <td>0</td>\n      <td>0</td>\n      <td>0</td>\n      <td>0</td>\n      <td>0</td>\n    </tr>\n    <tr>\n      <th>2</th>\n      <td>tomfarris/2513861</td>\n      <td>Farris Tom</td>\n      <td>11</td>\n      <td>21</td>\n      <td>8</td>\n      <td>108</td>\n      <td>1</td>\n      <td>2</td>\n      <td>0</td>\n      <td>0</td>\n      <td>0</td>\n      <td>0</td>\n    </tr>\n    <tr>\n      <th>4</th>\n      <td>billdemory/2512778</td>\n      <td>Demory Bill</td>\n      <td>6</td>\n      <td>39</td>\n      <td>12</td>\n      <td>159</td>\n      <td>2</td>\n      <td>8</td>\n      <td>0</td>\n      <td>0</td>\n      <td>8</td>\n      <td>73</td>\n    </tr>\n    <tr>\n      <th>10</th>\n      <td>breezyreid/2523928</td>\n      <td>Reid Breezy</td>\n      <td>12</td>\n      <td>1</td>\n      <td>0</td>\n      <td>0</td>\n      <td>0</td>\n      <td>0</td>\n      <td>0</td>\n      <td>0</td>\n      <td>0</td>\n      <td>0</td>\n    </tr>\n    <tr>\n      <th>12</th>\n      <td>johnnyknolla/2518652</td>\n      <td>Knolla Johnny</td>\n      <td>7</td>\n      <td>1</td>\n      <td>0</td>\n      <td>0</td>\n      <td>0</td>\n      <td>0</td>\n      <td>0</td>\n      <td>0</td>\n      <td>0</td>\n      <td>0</td>\n    </tr>\n  </tbody>\n</table>\n</div>"
     },
     "metadata": {},
     "execution_count": 81
    }
   ],
   "source": [
    "# get columns needed\n",
    "passing_columns = [\n",
    "    'Player Id','Name','Games Played','Passes Attempted','Passes Completed',\n",
    "    'Passing Yards','TD Passes','Ints','Passes Longer than 20 Yards',\n",
    "    'Passes Longer than 40 Yards','Sacks','Sacked Yards Lost']\n",
    "passing = passing[passing_columns].replace('--', np.nan).dropna().replace(',','', regex=True)\n",
    "passing.head()"
   ]
  },
  {
   "cell_type": "code",
   "execution_count": 82,
   "metadata": {},
   "outputs": [
    {
     "output_type": "execute_result",
     "data": {
      "text/plain": [
       "                                      Games Played  Passes Attempted  \\\n",
       "Player Id             Name                                             \n",
       "a.j.feeley/2504566    Feeley A.J.               28               762   \n",
       "aaronrodgers/2506363  Rodgers Aaron            142              4657   \n",
       "aceparker/2522734     Parker Ace                56               603   \n",
       "acesanders/2540267    Sanders Ace               15                 1   \n",
       "adamvinatieri/2503471 Vinatieri Adam            16                 1   \n",
       "\n",
       "                                      Passes Completed  Passing Yards  \\\n",
       "Player Id             Name                                              \n",
       "a.j.feeley/2504566    Feeley A.J.                  425           4618   \n",
       "aaronrodgers/2506363  Rodgers Aaron               3034          36827   \n",
       "aceparker/2522734     Parker Ace                   273           3935   \n",
       "acesanders/2540267    Sanders Ace                    1             21   \n",
       "adamvinatieri/2503471 Vinatieri Adam                 1              4   \n",
       "\n",
       "                                      TD Passes  Ints  \\\n",
       "Player Id             Name                              \n",
       "a.j.feeley/2504566    Feeley A.J.            28    31   \n",
       "aaronrodgers/2506363  Rodgers Aaron         297    72   \n",
       "aceparker/2522734     Parker Ace             22    47   \n",
       "acesanders/2540267    Sanders Ace             1     0   \n",
       "adamvinatieri/2503471 Vinatieri Adam          1     0   \n",
       "\n",
       "                                      Passes Longer than 20 Yards  \\\n",
       "Player Id             Name                                          \n",
       "a.j.feeley/2504566    Feeley A.J.                              48   \n",
       "aaronrodgers/2506363  Rodgers Aaron                           483   \n",
       "aceparker/2522734     Parker Ace                                0   \n",
       "acesanders/2540267    Sanders Ace                               1   \n",
       "adamvinatieri/2503471 Vinatieri Adam                            0   \n",
       "\n",
       "                                      Passes Longer than 40 Yards  Sacks  \\\n",
       "Player Id             Name                                                 \n",
       "a.j.feeley/2504566    Feeley A.J.                               5     44   \n",
       "aaronrodgers/2506363  Rodgers Aaron                           104    341   \n",
       "aceparker/2522734     Parker Ace                                0      0   \n",
       "acesanders/2540267    Sanders Ace                               0      0   \n",
       "adamvinatieri/2503471 Vinatieri Adam                            0      0   \n",
       "\n",
       "                                      Sacked Yards Lost  \n",
       "Player Id             Name                               \n",
       "a.j.feeley/2504566    Feeley A.J.                   276  \n",
       "aaronrodgers/2506363  Rodgers Aaron                2163  \n",
       "aceparker/2522734     Parker Ace                      0  \n",
       "acesanders/2540267    Sanders Ace                     0  \n",
       "adamvinatieri/2503471 Vinatieri Adam                  0  "
      ],
      "text/html": "<div>\n<style scoped>\n    .dataframe tbody tr th:only-of-type {\n        vertical-align: middle;\n    }\n\n    .dataframe tbody tr th {\n        vertical-align: top;\n    }\n\n    .dataframe thead th {\n        text-align: right;\n    }\n</style>\n<table border=\"1\" class=\"dataframe\">\n  <thead>\n    <tr style=\"text-align: right;\">\n      <th></th>\n      <th></th>\n      <th>Games Played</th>\n      <th>Passes Attempted</th>\n      <th>Passes Completed</th>\n      <th>Passing Yards</th>\n      <th>TD Passes</th>\n      <th>Ints</th>\n      <th>Passes Longer than 20 Yards</th>\n      <th>Passes Longer than 40 Yards</th>\n      <th>Sacks</th>\n      <th>Sacked Yards Lost</th>\n    </tr>\n    <tr>\n      <th>Player Id</th>\n      <th>Name</th>\n      <th></th>\n      <th></th>\n      <th></th>\n      <th></th>\n      <th></th>\n      <th></th>\n      <th></th>\n      <th></th>\n      <th></th>\n      <th></th>\n    </tr>\n  </thead>\n  <tbody>\n    <tr>\n      <th>a.j.feeley/2504566</th>\n      <th>Feeley A.J.</th>\n      <td>28</td>\n      <td>762</td>\n      <td>425</td>\n      <td>4618</td>\n      <td>28</td>\n      <td>31</td>\n      <td>48</td>\n      <td>5</td>\n      <td>44</td>\n      <td>276</td>\n    </tr>\n    <tr>\n      <th>aaronrodgers/2506363</th>\n      <th>Rodgers Aaron</th>\n      <td>142</td>\n      <td>4657</td>\n      <td>3034</td>\n      <td>36827</td>\n      <td>297</td>\n      <td>72</td>\n      <td>483</td>\n      <td>104</td>\n      <td>341</td>\n      <td>2163</td>\n    </tr>\n    <tr>\n      <th>aceparker/2522734</th>\n      <th>Parker Ace</th>\n      <td>56</td>\n      <td>603</td>\n      <td>273</td>\n      <td>3935</td>\n      <td>22</td>\n      <td>47</td>\n      <td>0</td>\n      <td>0</td>\n      <td>0</td>\n      <td>0</td>\n    </tr>\n    <tr>\n      <th>acesanders/2540267</th>\n      <th>Sanders Ace</th>\n      <td>15</td>\n      <td>1</td>\n      <td>1</td>\n      <td>21</td>\n      <td>1</td>\n      <td>0</td>\n      <td>1</td>\n      <td>0</td>\n      <td>0</td>\n      <td>0</td>\n    </tr>\n    <tr>\n      <th>adamvinatieri/2503471</th>\n      <th>Vinatieri Adam</th>\n      <td>16</td>\n      <td>1</td>\n      <td>1</td>\n      <td>4</td>\n      <td>1</td>\n      <td>0</td>\n      <td>0</td>\n      <td>0</td>\n      <td>0</td>\n      <td>0</td>\n    </tr>\n  </tbody>\n</table>\n</div>"
     },
     "metadata": {},
     "execution_count": 82
    }
   ],
   "source": [
    "# convert to numeric data\n",
    "numeric_passing = [\n",
    "    'Games Played','Passes Attempted','Passes Completed',\n",
    "    'Passing Yards','TD Passes','Ints','Passes Longer than 20 Yards',\n",
    "    'Passes Longer than 40 Yards','Sacks','Sacked Yards Lost']\n",
    "passing[numeric_passing] = passing[numeric_passing].apply(pd.to_numeric)\n",
    "passing = passing.groupby(['Player Id', 'Name']).sum()\n",
    "passing.head()"
   ]
  },
  {
   "cell_type": "code",
   "execution_count": 83,
   "metadata": {},
   "outputs": [
    {
     "output_type": "execute_result",
     "data": {
      "text/plain": [
       "               Player Id  Games Played  Passes Attempted  Passes Completed  \\\n",
       "0     a.j.feeley/2504566            28               762               425   \n",
       "1   aaronrodgers/2506363           142              4657              3034   \n",
       "2      aceparker/2522734            56               603               273   \n",
       "3     acesanders/2540267            15                 1                 1   \n",
       "4  adamvinatieri/2503471            16                 1                 1   \n",
       "\n",
       "   Passing Yards  TD Passes  Ints  Passes Longer than 20 Yards  \\\n",
       "0           4618         28    31                           48   \n",
       "1          36827        297    72                          483   \n",
       "2           3935         22    47                            0   \n",
       "3             21          1     0                            1   \n",
       "4              4          1     0                            0   \n",
       "\n",
       "   Passes Longer than 40 Yards  Sacks  ...        Current Team   Experience  \\\n",
       "0                            5     44  ...                 NaN   11 Seasons   \n",
       "1                          104    341  ...   Green Bay Packers  13th season   \n",
       "2                            0      0  ...                 NaN    7 Seasons   \n",
       "3                            0      0  ...                 NaN    2 Seasons   \n",
       "4                            0      0  ...  Indianapolis Colts  22nd season   \n",
       "\n",
       "  Height (inches)         High School High School Location             Name  \\\n",
       "0            75.0                 NaN                  NaN     Feeley, A.J.   \n",
       "1            74.0  Pleasant Valley HS            Chico, CA   Rodgers, Aaron   \n",
       "2            72.0                 NaN                  NaN      Parker, Ace   \n",
       "3            67.0                 NaN                  NaN     Sanders, Ace   \n",
       "4            72.0          Central HS       Rapid City, SD  Vinatieri, Adam   \n",
       "\n",
       "  Number Position  Weight (lbs) Years Played  \n",
       "0    NaN      NaN         216.0  2001 - 2011  \n",
       "1   12.0       QB         225.0          NaN  \n",
       "2    NaN      NaN         178.0  1937 - 1946  \n",
       "3    NaN      NaN         178.0  2013 - 2014  \n",
       "4    4.0        K         206.0          NaN  \n",
       "\n",
       "[5 rows x 26 columns]"
      ],
      "text/html": "<div>\n<style scoped>\n    .dataframe tbody tr th:only-of-type {\n        vertical-align: middle;\n    }\n\n    .dataframe tbody tr th {\n        vertical-align: top;\n    }\n\n    .dataframe thead th {\n        text-align: right;\n    }\n</style>\n<table border=\"1\" class=\"dataframe\">\n  <thead>\n    <tr style=\"text-align: right;\">\n      <th></th>\n      <th>Player Id</th>\n      <th>Games Played</th>\n      <th>Passes Attempted</th>\n      <th>Passes Completed</th>\n      <th>Passing Yards</th>\n      <th>TD Passes</th>\n      <th>Ints</th>\n      <th>Passes Longer than 20 Yards</th>\n      <th>Passes Longer than 40 Yards</th>\n      <th>Sacks</th>\n      <th>...</th>\n      <th>Current Team</th>\n      <th>Experience</th>\n      <th>Height (inches)</th>\n      <th>High School</th>\n      <th>High School Location</th>\n      <th>Name</th>\n      <th>Number</th>\n      <th>Position</th>\n      <th>Weight (lbs)</th>\n      <th>Years Played</th>\n    </tr>\n  </thead>\n  <tbody>\n    <tr>\n      <th>0</th>\n      <td>a.j.feeley/2504566</td>\n      <td>28</td>\n      <td>762</td>\n      <td>425</td>\n      <td>4618</td>\n      <td>28</td>\n      <td>31</td>\n      <td>48</td>\n      <td>5</td>\n      <td>44</td>\n      <td>...</td>\n      <td>NaN</td>\n      <td>11 Seasons</td>\n      <td>75.0</td>\n      <td>NaN</td>\n      <td>NaN</td>\n      <td>Feeley, A.J.</td>\n      <td>NaN</td>\n      <td>NaN</td>\n      <td>216.0</td>\n      <td>2001 - 2011</td>\n    </tr>\n    <tr>\n      <th>1</th>\n      <td>aaronrodgers/2506363</td>\n      <td>142</td>\n      <td>4657</td>\n      <td>3034</td>\n      <td>36827</td>\n      <td>297</td>\n      <td>72</td>\n      <td>483</td>\n      <td>104</td>\n      <td>341</td>\n      <td>...</td>\n      <td>Green Bay Packers</td>\n      <td>13th season</td>\n      <td>74.0</td>\n      <td>Pleasant Valley HS</td>\n      <td>Chico, CA</td>\n      <td>Rodgers, Aaron</td>\n      <td>12.0</td>\n      <td>QB</td>\n      <td>225.0</td>\n      <td>NaN</td>\n    </tr>\n    <tr>\n      <th>2</th>\n      <td>aceparker/2522734</td>\n      <td>56</td>\n      <td>603</td>\n      <td>273</td>\n      <td>3935</td>\n      <td>22</td>\n      <td>47</td>\n      <td>0</td>\n      <td>0</td>\n      <td>0</td>\n      <td>...</td>\n      <td>NaN</td>\n      <td>7 Seasons</td>\n      <td>72.0</td>\n      <td>NaN</td>\n      <td>NaN</td>\n      <td>Parker, Ace</td>\n      <td>NaN</td>\n      <td>NaN</td>\n      <td>178.0</td>\n      <td>1937 - 1946</td>\n    </tr>\n    <tr>\n      <th>3</th>\n      <td>acesanders/2540267</td>\n      <td>15</td>\n      <td>1</td>\n      <td>1</td>\n      <td>21</td>\n      <td>1</td>\n      <td>0</td>\n      <td>1</td>\n      <td>0</td>\n      <td>0</td>\n      <td>...</td>\n      <td>NaN</td>\n      <td>2 Seasons</td>\n      <td>67.0</td>\n      <td>NaN</td>\n      <td>NaN</td>\n      <td>Sanders, Ace</td>\n      <td>NaN</td>\n      <td>NaN</td>\n      <td>178.0</td>\n      <td>2013 - 2014</td>\n    </tr>\n    <tr>\n      <th>4</th>\n      <td>adamvinatieri/2503471</td>\n      <td>16</td>\n      <td>1</td>\n      <td>1</td>\n      <td>4</td>\n      <td>1</td>\n      <td>0</td>\n      <td>0</td>\n      <td>0</td>\n      <td>0</td>\n      <td>...</td>\n      <td>Indianapolis Colts</td>\n      <td>22nd season</td>\n      <td>72.0</td>\n      <td>Central HS</td>\n      <td>Rapid City, SD</td>\n      <td>Vinatieri, Adam</td>\n      <td>4.0</td>\n      <td>K</td>\n      <td>206.0</td>\n      <td>NaN</td>\n    </tr>\n  </tbody>\n</table>\n<p>5 rows × 26 columns</p>\n</div>"
     },
     "metadata": {},
     "execution_count": 83
    }
   ],
   "source": [
    "# merge basic stats to passing\n",
    "passing = pd.merge(passing, basic, how='left', on=['Player Id'])\n",
    "passing.head()"
   ]
  },
  {
   "cell_type": "code",
   "execution_count": 84,
   "metadata": {},
   "outputs": [],
   "source": [
    "passing.to_csv('../processed_data/passing.csv')"
   ]
  },
  {
   "source": [
    "# Rushing"
   ],
   "cell_type": "markdown",
   "metadata": {}
  },
  {
   "cell_type": "code",
   "execution_count": 85,
   "metadata": {},
   "outputs": [
    {
     "output_type": "execute_result",
     "data": {
      "text/plain": [
       "                 Player Id             Name  Games Played Rushing Attempts  \\\n",
       "7       quinnjohnson/79593    Johnson Quinn            16                4   \n",
       "16        joeadams/2532782        Adams Joe             9                3   \n",
       "23  clarenceverdin/2503464  Verdin Clarence            16                3   \n",
       "25  clarenceverdin/2503464  Verdin Clarence            16                1   \n",
       "39      jasonbaker/2504395      Baker Jason            16                1   \n",
       "\n",
       "   Rushing Yards Rushing TDs Rushing More Than 20 Yards  \\\n",
       "7              5           0                          0   \n",
       "16            13           0                          0   \n",
       "23            33           0                          1   \n",
       "25             4           0                          0   \n",
       "39             0           0                          0   \n",
       "\n",
       "   Rushing More Than 40 Yards Fumbles  \n",
       "7                           0       0  \n",
       "16                          0       0  \n",
       "23                          0       0  \n",
       "25                          0       0  \n",
       "39                          0       0  "
      ],
      "text/html": "<div>\n<style scoped>\n    .dataframe tbody tr th:only-of-type {\n        vertical-align: middle;\n    }\n\n    .dataframe tbody tr th {\n        vertical-align: top;\n    }\n\n    .dataframe thead th {\n        text-align: right;\n    }\n</style>\n<table border=\"1\" class=\"dataframe\">\n  <thead>\n    <tr style=\"text-align: right;\">\n      <th></th>\n      <th>Player Id</th>\n      <th>Name</th>\n      <th>Games Played</th>\n      <th>Rushing Attempts</th>\n      <th>Rushing Yards</th>\n      <th>Rushing TDs</th>\n      <th>Rushing More Than 20 Yards</th>\n      <th>Rushing More Than 40 Yards</th>\n      <th>Fumbles</th>\n    </tr>\n  </thead>\n  <tbody>\n    <tr>\n      <th>7</th>\n      <td>quinnjohnson/79593</td>\n      <td>Johnson Quinn</td>\n      <td>16</td>\n      <td>4</td>\n      <td>5</td>\n      <td>0</td>\n      <td>0</td>\n      <td>0</td>\n      <td>0</td>\n    </tr>\n    <tr>\n      <th>16</th>\n      <td>joeadams/2532782</td>\n      <td>Adams Joe</td>\n      <td>9</td>\n      <td>3</td>\n      <td>13</td>\n      <td>0</td>\n      <td>0</td>\n      <td>0</td>\n      <td>0</td>\n    </tr>\n    <tr>\n      <th>23</th>\n      <td>clarenceverdin/2503464</td>\n      <td>Verdin Clarence</td>\n      <td>16</td>\n      <td>3</td>\n      <td>33</td>\n      <td>0</td>\n      <td>1</td>\n      <td>0</td>\n      <td>0</td>\n    </tr>\n    <tr>\n      <th>25</th>\n      <td>clarenceverdin/2503464</td>\n      <td>Verdin Clarence</td>\n      <td>16</td>\n      <td>1</td>\n      <td>4</td>\n      <td>0</td>\n      <td>0</td>\n      <td>0</td>\n      <td>0</td>\n    </tr>\n    <tr>\n      <th>39</th>\n      <td>jasonbaker/2504395</td>\n      <td>Baker Jason</td>\n      <td>16</td>\n      <td>1</td>\n      <td>0</td>\n      <td>0</td>\n      <td>0</td>\n      <td>0</td>\n      <td>0</td>\n    </tr>\n  </tbody>\n</table>\n</div>"
     },
     "metadata": {},
     "execution_count": 85
    }
   ],
   "source": [
    "# get columns needed\n",
    "rushing_columns = [\n",
    "    'Player Id','Name','Games Played','Rushing Attempts','Rushing Yards',\n",
    "    'Rushing TDs','Rushing More Than 20 Yards','Rushing More Than 40 Yards','Fumbles']\n",
    "rushing = rushing[rushing_columns].replace('--', np.nan).dropna().replace(',','', regex=True)\n",
    "rushing.head()"
   ]
  },
  {
   "cell_type": "code",
   "execution_count": 86,
   "metadata": {},
   "outputs": [
    {
     "output_type": "execute_result",
     "data": {
      "text/plain": [
       "                                  Games Played  Rushing Attempts  \\\n",
       "Player Id           Name                                           \n",
       "a.j.feeley/2504566  Feeley A.J.             27                37   \n",
       "a.j.green/2495450   Green A.J.              44                11   \n",
       "a.j.jenkins/2532876 Jenkins A.J.            25                 4   \n",
       "a.j.schable/2506734 Schable A.J.            11                 1   \n",
       "aaronbailey/2499487 Bailey Aaron            28                 4   \n",
       "\n",
       "                                  Rushing Yards  Rushing TDs  \\\n",
       "Player Id           Name                                       \n",
       "a.j.feeley/2504566  Feeley A.J.              49            1   \n",
       "a.j.green/2495450   Green A.J.               93            0   \n",
       "a.j.jenkins/2532876 Jenkins A.J.              4            0   \n",
       "a.j.schable/2506734 Schable A.J.              5            0   \n",
       "aaronbailey/2499487 Bailey Aaron             54            0   \n",
       "\n",
       "                                  Rushing More Than 20 Yards  \\\n",
       "Player Id           Name                                       \n",
       "a.j.feeley/2504566  Feeley A.J.                            0   \n",
       "a.j.green/2495450   Green A.J.                             2   \n",
       "a.j.jenkins/2532876 Jenkins A.J.                           0   \n",
       "a.j.schable/2506734 Schable A.J.                           0   \n",
       "aaronbailey/2499487 Bailey Aaron                           1   \n",
       "\n",
       "                                  Rushing More Than 40 Yards  Fumbles  \n",
       "Player Id           Name                                               \n",
       "a.j.feeley/2504566  Feeley A.J.                            0        5  \n",
       "a.j.green/2495450   Green A.J.                             0        2  \n",
       "a.j.jenkins/2532876 Jenkins A.J.                           0        1  \n",
       "a.j.schable/2506734 Schable A.J.                           0        0  \n",
       "aaronbailey/2499487 Bailey Aaron                           0        0  "
      ],
      "text/html": "<div>\n<style scoped>\n    .dataframe tbody tr th:only-of-type {\n        vertical-align: middle;\n    }\n\n    .dataframe tbody tr th {\n        vertical-align: top;\n    }\n\n    .dataframe thead th {\n        text-align: right;\n    }\n</style>\n<table border=\"1\" class=\"dataframe\">\n  <thead>\n    <tr style=\"text-align: right;\">\n      <th></th>\n      <th></th>\n      <th>Games Played</th>\n      <th>Rushing Attempts</th>\n      <th>Rushing Yards</th>\n      <th>Rushing TDs</th>\n      <th>Rushing More Than 20 Yards</th>\n      <th>Rushing More Than 40 Yards</th>\n      <th>Fumbles</th>\n    </tr>\n    <tr>\n      <th>Player Id</th>\n      <th>Name</th>\n      <th></th>\n      <th></th>\n      <th></th>\n      <th></th>\n      <th></th>\n      <th></th>\n      <th></th>\n    </tr>\n  </thead>\n  <tbody>\n    <tr>\n      <th>a.j.feeley/2504566</th>\n      <th>Feeley A.J.</th>\n      <td>27</td>\n      <td>37</td>\n      <td>49</td>\n      <td>1</td>\n      <td>0</td>\n      <td>0</td>\n      <td>5</td>\n    </tr>\n    <tr>\n      <th>a.j.green/2495450</th>\n      <th>Green A.J.</th>\n      <td>44</td>\n      <td>11</td>\n      <td>93</td>\n      <td>0</td>\n      <td>2</td>\n      <td>0</td>\n      <td>2</td>\n    </tr>\n    <tr>\n      <th>a.j.jenkins/2532876</th>\n      <th>Jenkins A.J.</th>\n      <td>25</td>\n      <td>4</td>\n      <td>4</td>\n      <td>0</td>\n      <td>0</td>\n      <td>0</td>\n      <td>1</td>\n    </tr>\n    <tr>\n      <th>a.j.schable/2506734</th>\n      <th>Schable A.J.</th>\n      <td>11</td>\n      <td>1</td>\n      <td>5</td>\n      <td>0</td>\n      <td>0</td>\n      <td>0</td>\n      <td>0</td>\n    </tr>\n    <tr>\n      <th>aaronbailey/2499487</th>\n      <th>Bailey Aaron</th>\n      <td>28</td>\n      <td>4</td>\n      <td>54</td>\n      <td>0</td>\n      <td>1</td>\n      <td>0</td>\n      <td>0</td>\n    </tr>\n  </tbody>\n</table>\n</div>"
     },
     "metadata": {},
     "execution_count": 86
    }
   ],
   "source": [
    "# convert to numeric data\n",
    "numeric_rushing = [\n",
    "    'Games Played','Rushing Attempts','Rushing Yards', 'Rushing TDs',\n",
    "    'Rushing More Than 20 Yards','Rushing More Than 40 Yards','Fumbles']\n",
    "rushing[numeric_rushing] = rushing[numeric_rushing].apply(pd.to_numeric)\n",
    "rushing = rushing.groupby(['Player Id', 'Name']).sum()\n",
    "rushing.head()"
   ]
  },
  {
   "cell_type": "code",
   "execution_count": 87,
   "metadata": {},
   "outputs": [
    {
     "output_type": "execute_result",
     "data": {
      "text/plain": [
       "             Player Id  Games Played  Rushing Attempts  Rushing Yards  \\\n",
       "0   a.j.feeley/2504566            27                37             49   \n",
       "1    a.j.green/2495450            44                11             93   \n",
       "2  a.j.jenkins/2532876            25                 4              4   \n",
       "3  a.j.schable/2506734            11                 1              5   \n",
       "4  aaronbailey/2499487            28                 4             54   \n",
       "\n",
       "   Rushing TDs  Rushing More Than 20 Yards  Rushing More Than 40 Yards  \\\n",
       "0            1                           0                           0   \n",
       "1            0                           2                           0   \n",
       "2            0                           0                           0   \n",
       "3            0                           0                           0   \n",
       "4            0                           1                           0   \n",
       "\n",
       "   Fumbles   Age        Birth Place  ...        Current Team  Experience  \\\n",
       "0        5  40.0      Caldwell , ID  ...                 NaN  11 Seasons   \n",
       "1        2  28.0    Ridgeville , SC  ...  Cincinnati Bengals  7th season   \n",
       "2        1  27.0  Jacksonville , FL  ...                 NaN   4 Seasons   \n",
       "3        0  33.0     Ida Grove , IA  ...                 NaN   3 Seasons   \n",
       "4        0  45.0     Ann Arbor , MI  ...                 NaN   5 Seasons   \n",
       "\n",
       "  Height (inches)     High School High School Location           Name Number  \\\n",
       "0            75.0             NaN                  NaN   Feeley, A.J.    NaN   \n",
       "1            76.0  Summerville HS                   SC    Green, A.J.   18.0   \n",
       "2            73.0             NaN                  NaN  Jenkins, A.J.    NaN   \n",
       "3            75.0             NaN                  NaN  Schable, A.J.    NaN   \n",
       "4            70.0             NaN                  NaN  Bailey, Aaron    NaN   \n",
       "\n",
       "  Position Weight (lbs)  Years Played  \n",
       "0      NaN        216.0   2001 - 2011  \n",
       "1       WR        210.0           NaN  \n",
       "2      NaN        195.0   2012 - 2015  \n",
       "3      NaN        281.0   2006 - 2011  \n",
       "4      NaN        185.0   1994 - 1998  \n",
       "\n",
       "[5 rows x 23 columns]"
      ],
      "text/html": "<div>\n<style scoped>\n    .dataframe tbody tr th:only-of-type {\n        vertical-align: middle;\n    }\n\n    .dataframe tbody tr th {\n        vertical-align: top;\n    }\n\n    .dataframe thead th {\n        text-align: right;\n    }\n</style>\n<table border=\"1\" class=\"dataframe\">\n  <thead>\n    <tr style=\"text-align: right;\">\n      <th></th>\n      <th>Player Id</th>\n      <th>Games Played</th>\n      <th>Rushing Attempts</th>\n      <th>Rushing Yards</th>\n      <th>Rushing TDs</th>\n      <th>Rushing More Than 20 Yards</th>\n      <th>Rushing More Than 40 Yards</th>\n      <th>Fumbles</th>\n      <th>Age</th>\n      <th>Birth Place</th>\n      <th>...</th>\n      <th>Current Team</th>\n      <th>Experience</th>\n      <th>Height (inches)</th>\n      <th>High School</th>\n      <th>High School Location</th>\n      <th>Name</th>\n      <th>Number</th>\n      <th>Position</th>\n      <th>Weight (lbs)</th>\n      <th>Years Played</th>\n    </tr>\n  </thead>\n  <tbody>\n    <tr>\n      <th>0</th>\n      <td>a.j.feeley/2504566</td>\n      <td>27</td>\n      <td>37</td>\n      <td>49</td>\n      <td>1</td>\n      <td>0</td>\n      <td>0</td>\n      <td>5</td>\n      <td>40.0</td>\n      <td>Caldwell , ID</td>\n      <td>...</td>\n      <td>NaN</td>\n      <td>11 Seasons</td>\n      <td>75.0</td>\n      <td>NaN</td>\n      <td>NaN</td>\n      <td>Feeley, A.J.</td>\n      <td>NaN</td>\n      <td>NaN</td>\n      <td>216.0</td>\n      <td>2001 - 2011</td>\n    </tr>\n    <tr>\n      <th>1</th>\n      <td>a.j.green/2495450</td>\n      <td>44</td>\n      <td>11</td>\n      <td>93</td>\n      <td>0</td>\n      <td>2</td>\n      <td>0</td>\n      <td>2</td>\n      <td>28.0</td>\n      <td>Ridgeville , SC</td>\n      <td>...</td>\n      <td>Cincinnati Bengals</td>\n      <td>7th season</td>\n      <td>76.0</td>\n      <td>Summerville HS</td>\n      <td>SC</td>\n      <td>Green, A.J.</td>\n      <td>18.0</td>\n      <td>WR</td>\n      <td>210.0</td>\n      <td>NaN</td>\n    </tr>\n    <tr>\n      <th>2</th>\n      <td>a.j.jenkins/2532876</td>\n      <td>25</td>\n      <td>4</td>\n      <td>4</td>\n      <td>0</td>\n      <td>0</td>\n      <td>0</td>\n      <td>1</td>\n      <td>27.0</td>\n      <td>Jacksonville , FL</td>\n      <td>...</td>\n      <td>NaN</td>\n      <td>4 Seasons</td>\n      <td>73.0</td>\n      <td>NaN</td>\n      <td>NaN</td>\n      <td>Jenkins, A.J.</td>\n      <td>NaN</td>\n      <td>NaN</td>\n      <td>195.0</td>\n      <td>2012 - 2015</td>\n    </tr>\n    <tr>\n      <th>3</th>\n      <td>a.j.schable/2506734</td>\n      <td>11</td>\n      <td>1</td>\n      <td>5</td>\n      <td>0</td>\n      <td>0</td>\n      <td>0</td>\n      <td>0</td>\n      <td>33.0</td>\n      <td>Ida Grove , IA</td>\n      <td>...</td>\n      <td>NaN</td>\n      <td>3 Seasons</td>\n      <td>75.0</td>\n      <td>NaN</td>\n      <td>NaN</td>\n      <td>Schable, A.J.</td>\n      <td>NaN</td>\n      <td>NaN</td>\n      <td>281.0</td>\n      <td>2006 - 2011</td>\n    </tr>\n    <tr>\n      <th>4</th>\n      <td>aaronbailey/2499487</td>\n      <td>28</td>\n      <td>4</td>\n      <td>54</td>\n      <td>0</td>\n      <td>1</td>\n      <td>0</td>\n      <td>0</td>\n      <td>45.0</td>\n      <td>Ann Arbor , MI</td>\n      <td>...</td>\n      <td>NaN</td>\n      <td>5 Seasons</td>\n      <td>70.0</td>\n      <td>NaN</td>\n      <td>NaN</td>\n      <td>Bailey, Aaron</td>\n      <td>NaN</td>\n      <td>NaN</td>\n      <td>185.0</td>\n      <td>1994 - 1998</td>\n    </tr>\n  </tbody>\n</table>\n<p>5 rows × 23 columns</p>\n</div>"
     },
     "metadata": {},
     "execution_count": 87
    }
   ],
   "source": [
    "# merge basic stats to rushing\n",
    "rushing = pd.merge(rushing, basic, how='left', on=['Player Id'])\n",
    "rushing.head()"
   ]
  },
  {
   "cell_type": "code",
   "execution_count": 88,
   "metadata": {},
   "outputs": [],
   "source": [
    "rushing.to_csv('../processed_data/rushing.csv')"
   ]
  }
 ]
}